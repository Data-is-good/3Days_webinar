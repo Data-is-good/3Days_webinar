{
 "cells": [
  {
   "cell_type": "code",
   "execution_count": 1,
   "id": "4b43449f",
   "metadata": {
    "_cell_guid": "b1076dfc-b9ad-4769-8c92-a6c4dae69d19",
    "_uuid": "8f2839f25d086af736a60e9eeb907d3b93b6e0e5",
    "execution": {
     "iopub.execute_input": "2022-07-05T14:46:43.662948Z",
     "iopub.status.busy": "2022-07-05T14:46:43.662336Z",
     "iopub.status.idle": "2022-07-05T14:46:43.685238Z",
     "shell.execute_reply": "2022-07-05T14:46:43.683750Z"
    },
    "papermill": {
     "duration": 0.037907,
     "end_time": "2022-07-05T14:46:43.689466",
     "exception": false,
     "start_time": "2022-07-05T14:46:43.651559",
     "status": "completed"
    },
    "tags": []
   },
   "outputs": [
    {
     "name": "stdout",
     "output_type": "stream",
     "text": [
      "/kaggle/input/dataset-for-volcano/Volcanic_eruption_datassset - Volcanic_eruption_datassset (1).csv\n"
     ]
    }
   ],
   "source": [
    "# This Python 3 environment comes with many helpful analytics libraries installed\n",
    "# It is defined by the kaggle/python Docker image: https://github.com/kaggle/docker-python\n",
    "# For example, here's several helpful packages to load\n",
    "\n",
    "import numpy as np # linear algebra\n",
    "import pandas as pd # data processing, CSV file I/O (e.g. pd.read_csv)\n",
    "\n",
    "# Input data files are available in the read-only \"../input/\" directory\n",
    "# For example, running this (by clicking run or pressing Shift+Enter) will list all files under the input directory\n",
    "\n",
    "import os\n",
    "for dirname, _, filenames in os.walk('/kaggle/input'):\n",
    "    for filename in filenames:\n",
    "        print(os.path.join(dirname, filename))\n",
    "\n",
    "# You can write up to 20GB to the current directory (/kaggle/working/) that gets preserved as output when you create a version using \"Save & Run All\" \n",
    "# You can also write temporary files to /kaggle/temp/, but they won't be saved outside of the current session"
   ]
  },
  {
   "cell_type": "code",
   "execution_count": 2,
   "id": "5b7f6a26",
   "metadata": {
    "execution": {
     "iopub.execute_input": "2022-07-05T14:46:43.707925Z",
     "iopub.status.busy": "2022-07-05T14:46:43.707031Z",
     "iopub.status.idle": "2022-07-05T14:46:45.029681Z",
     "shell.execute_reply": "2022-07-05T14:46:45.028094Z"
    },
    "papermill": {
     "duration": 1.33512,
     "end_time": "2022-07-05T14:46:45.032899",
     "exception": false,
     "start_time": "2022-07-05T14:46:43.697779",
     "status": "completed"
    },
    "tags": []
   },
   "outputs": [],
   "source": [
    "# Importing required Python libraries:-\n",
    "# Importing pandas for data exploration \n",
    "import pandas as pd\n",
    "# Importing matplotlib & seaborn data visulization\n",
    "from matplotlib import pyplot as plt \n",
    "import seaborn as sns\n",
    "plt.style.use(\"fivethirtyeight\")"
   ]
  },
  {
   "cell_type": "markdown",
   "id": "6c38cd1f",
   "metadata": {
    "papermill": {
     "duration": 0.00755,
     "end_time": "2022-07-05T14:46:45.047968",
     "exception": false,
     "start_time": "2022-07-05T14:46:45.040418",
     "status": "completed"
    },
    "tags": []
   },
   "source": [
    "# <font color=\"orange\">**Loading the dataset:-**</font>"
   ]
  },
  {
   "cell_type": "code",
   "execution_count": 3,
   "id": "9535c015",
   "metadata": {
    "execution": {
     "iopub.execute_input": "2022-07-05T14:46:45.065792Z",
     "iopub.status.busy": "2022-07-05T14:46:45.065213Z",
     "iopub.status.idle": "2022-07-05T14:46:45.108943Z",
     "shell.execute_reply": "2022-07-05T14:46:45.107476Z"
    },
    "papermill": {
     "duration": 0.056011,
     "end_time": "2022-07-05T14:46:45.112135",
     "exception": false,
     "start_time": "2022-07-05T14:46:45.056124",
     "status": "completed"
    },
    "tags": []
   },
   "outputs": [
    {
     "data": {
      "text/html": [
       "<div>\n",
       "<style scoped>\n",
       "    .dataframe tbody tr th:only-of-type {\n",
       "        vertical-align: middle;\n",
       "    }\n",
       "\n",
       "    .dataframe tbody tr th {\n",
       "        vertical-align: top;\n",
       "    }\n",
       "\n",
       "    .dataframe thead th {\n",
       "        text-align: right;\n",
       "    }\n",
       "</style>\n",
       "<table border=\"1\" class=\"dataframe\">\n",
       "  <thead>\n",
       "    <tr style=\"text-align: right;\">\n",
       "      <th></th>\n",
       "      <th>Year</th>\n",
       "      <th>Name</th>\n",
       "      <th>Location</th>\n",
       "      <th>Country</th>\n",
       "      <th>Type</th>\n",
       "      <th>TOTAL_DEATHS</th>\n",
       "    </tr>\n",
       "  </thead>\n",
       "  <tbody>\n",
       "    <tr>\n",
       "      <th>0</th>\n",
       "      <td>2010</td>\n",
       "      <td>Tungurahua</td>\n",
       "      <td>Ecuador</td>\n",
       "      <td>Ecuador</td>\n",
       "      <td>Stratovolcano</td>\n",
       "      <td>NaN</td>\n",
       "    </tr>\n",
       "    <tr>\n",
       "      <th>1</th>\n",
       "      <td>2010</td>\n",
       "      <td>Eyjafjallajokull</td>\n",
       "      <td>Iceland-S</td>\n",
       "      <td>Iceland</td>\n",
       "      <td>Stratovolcano</td>\n",
       "      <td>2.0</td>\n",
       "    </tr>\n",
       "    <tr>\n",
       "      <th>2</th>\n",
       "      <td>2010</td>\n",
       "      <td>Pacaya</td>\n",
       "      <td>Guatemala</td>\n",
       "      <td>Guatemala</td>\n",
       "      <td>Complex volcano</td>\n",
       "      <td>1.0</td>\n",
       "    </tr>\n",
       "    <tr>\n",
       "      <th>3</th>\n",
       "      <td>2010</td>\n",
       "      <td>Sarigan</td>\n",
       "      <td>Mariana Is-C Pacific</td>\n",
       "      <td>United States</td>\n",
       "      <td>Stratovolcano</td>\n",
       "      <td>NaN</td>\n",
       "    </tr>\n",
       "    <tr>\n",
       "      <th>4</th>\n",
       "      <td>2010</td>\n",
       "      <td>Karangetang [Api Siau]</td>\n",
       "      <td>Sangihe Is-Indonesia</td>\n",
       "      <td>Indonesia</td>\n",
       "      <td>Stratovolcano</td>\n",
       "      <td>4.0</td>\n",
       "    </tr>\n",
       "    <tr>\n",
       "      <th>...</th>\n",
       "      <td>...</td>\n",
       "      <td>...</td>\n",
       "      <td>...</td>\n",
       "      <td>...</td>\n",
       "      <td>...</td>\n",
       "      <td>...</td>\n",
       "    </tr>\n",
       "    <tr>\n",
       "      <th>58</th>\n",
       "      <td>2018</td>\n",
       "      <td>Kilauea</td>\n",
       "      <td>Hawaiian Is</td>\n",
       "      <td>United States</td>\n",
       "      <td>Shield volcano</td>\n",
       "      <td>1.0</td>\n",
       "    </tr>\n",
       "    <tr>\n",
       "      <th>59</th>\n",
       "      <td>2018</td>\n",
       "      <td>Kadovar</td>\n",
       "      <td>New Guinea-NE of</td>\n",
       "      <td>Papua New Guinea</td>\n",
       "      <td>Stratovolcano</td>\n",
       "      <td>NaN</td>\n",
       "    </tr>\n",
       "    <tr>\n",
       "      <th>60</th>\n",
       "      <td>2018</td>\n",
       "      <td>Ijen</td>\n",
       "      <td>Java</td>\n",
       "      <td>Indonesia</td>\n",
       "      <td>Stratovolcano</td>\n",
       "      <td>NaN</td>\n",
       "    </tr>\n",
       "    <tr>\n",
       "      <th>61</th>\n",
       "      <td>2018</td>\n",
       "      <td>Kilauea</td>\n",
       "      <td>Hawaiian Is</td>\n",
       "      <td>United States</td>\n",
       "      <td>Shield volcano</td>\n",
       "      <td>NaN</td>\n",
       "    </tr>\n",
       "    <tr>\n",
       "      <th>62</th>\n",
       "      <td>2018</td>\n",
       "      <td>Aoba</td>\n",
       "      <td>Vanuatu-SW Pacific</td>\n",
       "      <td>Vanuatu</td>\n",
       "      <td>Shield volcano</td>\n",
       "      <td>4.0</td>\n",
       "    </tr>\n",
       "  </tbody>\n",
       "</table>\n",
       "<p>63 rows × 6 columns</p>\n",
       "</div>"
      ],
      "text/plain": [
       "    Year                    Name              Location           Country  \\\n",
       "0   2010              Tungurahua               Ecuador           Ecuador   \n",
       "1   2010        Eyjafjallajokull             Iceland-S           Iceland   \n",
       "2   2010                  Pacaya             Guatemala         Guatemala   \n",
       "3   2010                 Sarigan  Mariana Is-C Pacific     United States   \n",
       "4   2010  Karangetang [Api Siau]  Sangihe Is-Indonesia         Indonesia   \n",
       "..   ...                     ...                   ...               ...   \n",
       "58  2018                 Kilauea           Hawaiian Is     United States   \n",
       "59  2018                 Kadovar      New Guinea-NE of  Papua New Guinea   \n",
       "60  2018                    Ijen                  Java         Indonesia   \n",
       "61  2018                 Kilauea           Hawaiian Is     United States   \n",
       "62  2018                    Aoba    Vanuatu-SW Pacific           Vanuatu   \n",
       "\n",
       "               Type  TOTAL_DEATHS  \n",
       "0     Stratovolcano           NaN  \n",
       "1     Stratovolcano           2.0  \n",
       "2   Complex volcano           1.0  \n",
       "3     Stratovolcano           NaN  \n",
       "4     Stratovolcano           4.0  \n",
       "..              ...           ...  \n",
       "58   Shield volcano           1.0  \n",
       "59    Stratovolcano           NaN  \n",
       "60    Stratovolcano           NaN  \n",
       "61   Shield volcano           NaN  \n",
       "62   Shield volcano           4.0  \n",
       "\n",
       "[63 rows x 6 columns]"
      ]
     },
     "execution_count": 3,
     "metadata": {},
     "output_type": "execute_result"
    }
   ],
   "source": [
    "df=pd.read_csv(\"../input/dataset-for-volcano/Volcanic_eruption_datassset - Volcanic_eruption_datassset (1).csv\")\n",
    "df"
   ]
  },
  {
   "cell_type": "markdown",
   "id": "a10a10fd",
   "metadata": {
    "papermill": {
     "duration": 0.007503,
     "end_time": "2022-07-05T14:46:45.128394",
     "exception": false,
     "start_time": "2022-07-05T14:46:45.120891",
     "status": "completed"
    },
    "tags": []
   },
   "source": [
    "# <font color=\"Orange\">**Summoning the top 5 rows of the dataset:-**</font>"
   ]
  },
  {
   "cell_type": "code",
   "execution_count": 4,
   "id": "993445f1",
   "metadata": {
    "execution": {
     "iopub.execute_input": "2022-07-05T14:46:45.146181Z",
     "iopub.status.busy": "2022-07-05T14:46:45.145718Z",
     "iopub.status.idle": "2022-07-05T14:46:45.161380Z",
     "shell.execute_reply": "2022-07-05T14:46:45.160152Z"
    },
    "papermill": {
     "duration": 0.027208,
     "end_time": "2022-07-05T14:46:45.163690",
     "exception": false,
     "start_time": "2022-07-05T14:46:45.136482",
     "status": "completed"
    },
    "tags": []
   },
   "outputs": [
    {
     "data": {
      "text/html": [
       "<div>\n",
       "<style scoped>\n",
       "    .dataframe tbody tr th:only-of-type {\n",
       "        vertical-align: middle;\n",
       "    }\n",
       "\n",
       "    .dataframe tbody tr th {\n",
       "        vertical-align: top;\n",
       "    }\n",
       "\n",
       "    .dataframe thead th {\n",
       "        text-align: right;\n",
       "    }\n",
       "</style>\n",
       "<table border=\"1\" class=\"dataframe\">\n",
       "  <thead>\n",
       "    <tr style=\"text-align: right;\">\n",
       "      <th></th>\n",
       "      <th>Year</th>\n",
       "      <th>Name</th>\n",
       "      <th>Location</th>\n",
       "      <th>Country</th>\n",
       "      <th>Type</th>\n",
       "      <th>TOTAL_DEATHS</th>\n",
       "    </tr>\n",
       "  </thead>\n",
       "  <tbody>\n",
       "    <tr>\n",
       "      <th>0</th>\n",
       "      <td>2010</td>\n",
       "      <td>Tungurahua</td>\n",
       "      <td>Ecuador</td>\n",
       "      <td>Ecuador</td>\n",
       "      <td>Stratovolcano</td>\n",
       "      <td>NaN</td>\n",
       "    </tr>\n",
       "    <tr>\n",
       "      <th>1</th>\n",
       "      <td>2010</td>\n",
       "      <td>Eyjafjallajokull</td>\n",
       "      <td>Iceland-S</td>\n",
       "      <td>Iceland</td>\n",
       "      <td>Stratovolcano</td>\n",
       "      <td>2.0</td>\n",
       "    </tr>\n",
       "    <tr>\n",
       "      <th>2</th>\n",
       "      <td>2010</td>\n",
       "      <td>Pacaya</td>\n",
       "      <td>Guatemala</td>\n",
       "      <td>Guatemala</td>\n",
       "      <td>Complex volcano</td>\n",
       "      <td>1.0</td>\n",
       "    </tr>\n",
       "    <tr>\n",
       "      <th>3</th>\n",
       "      <td>2010</td>\n",
       "      <td>Sarigan</td>\n",
       "      <td>Mariana Is-C Pacific</td>\n",
       "      <td>United States</td>\n",
       "      <td>Stratovolcano</td>\n",
       "      <td>NaN</td>\n",
       "    </tr>\n",
       "    <tr>\n",
       "      <th>4</th>\n",
       "      <td>2010</td>\n",
       "      <td>Karangetang [Api Siau]</td>\n",
       "      <td>Sangihe Is-Indonesia</td>\n",
       "      <td>Indonesia</td>\n",
       "      <td>Stratovolcano</td>\n",
       "      <td>4.0</td>\n",
       "    </tr>\n",
       "  </tbody>\n",
       "</table>\n",
       "</div>"
      ],
      "text/plain": [
       "   Year                    Name              Location        Country  \\\n",
       "0  2010              Tungurahua               Ecuador        Ecuador   \n",
       "1  2010        Eyjafjallajokull             Iceland-S        Iceland   \n",
       "2  2010                  Pacaya             Guatemala      Guatemala   \n",
       "3  2010                 Sarigan  Mariana Is-C Pacific  United States   \n",
       "4  2010  Karangetang [Api Siau]  Sangihe Is-Indonesia      Indonesia   \n",
       "\n",
       "              Type  TOTAL_DEATHS  \n",
       "0    Stratovolcano           NaN  \n",
       "1    Stratovolcano           2.0  \n",
       "2  Complex volcano           1.0  \n",
       "3    Stratovolcano           NaN  \n",
       "4    Stratovolcano           4.0  "
      ]
     },
     "execution_count": 4,
     "metadata": {},
     "output_type": "execute_result"
    }
   ],
   "source": [
    "\n",
    "df.head()"
   ]
  },
  {
   "cell_type": "markdown",
   "id": "fdd883f8",
   "metadata": {
    "execution": {
     "iopub.execute_input": "2022-07-05T13:45:10.554226Z",
     "iopub.status.busy": "2022-07-05T13:45:10.553784Z",
     "iopub.status.idle": "2022-07-05T13:45:10.560835Z",
     "shell.execute_reply": "2022-07-05T13:45:10.559691Z",
     "shell.execute_reply.started": "2022-07-05T13:45:10.554179Z"
    },
    "papermill": {
     "duration": 0.007575,
     "end_time": "2022-07-05T14:46:45.179318",
     "exception": false,
     "start_time": "2022-07-05T14:46:45.171743",
     "status": "completed"
    },
    "tags": []
   },
   "source": [
    "# <font color=\"Orange\">**Summoning the button 5 rows of the dataset:-**</font>"
   ]
  },
  {
   "cell_type": "code",
   "execution_count": 5,
   "id": "7b34b486",
   "metadata": {
    "execution": {
     "iopub.execute_input": "2022-07-05T14:46:45.197272Z",
     "iopub.status.busy": "2022-07-05T14:46:45.196808Z",
     "iopub.status.idle": "2022-07-05T14:46:45.212378Z",
     "shell.execute_reply": "2022-07-05T14:46:45.211002Z"
    },
    "papermill": {
     "duration": 0.027545,
     "end_time": "2022-07-05T14:46:45.214643",
     "exception": false,
     "start_time": "2022-07-05T14:46:45.187098",
     "status": "completed"
    },
    "tags": []
   },
   "outputs": [
    {
     "data": {
      "text/html": [
       "<div>\n",
       "<style scoped>\n",
       "    .dataframe tbody tr th:only-of-type {\n",
       "        vertical-align: middle;\n",
       "    }\n",
       "\n",
       "    .dataframe tbody tr th {\n",
       "        vertical-align: top;\n",
       "    }\n",
       "\n",
       "    .dataframe thead th {\n",
       "        text-align: right;\n",
       "    }\n",
       "</style>\n",
       "<table border=\"1\" class=\"dataframe\">\n",
       "  <thead>\n",
       "    <tr style=\"text-align: right;\">\n",
       "      <th></th>\n",
       "      <th>Year</th>\n",
       "      <th>Name</th>\n",
       "      <th>Location</th>\n",
       "      <th>Country</th>\n",
       "      <th>Type</th>\n",
       "      <th>TOTAL_DEATHS</th>\n",
       "    </tr>\n",
       "  </thead>\n",
       "  <tbody>\n",
       "    <tr>\n",
       "      <th>58</th>\n",
       "      <td>2018</td>\n",
       "      <td>Kilauea</td>\n",
       "      <td>Hawaiian Is</td>\n",
       "      <td>United States</td>\n",
       "      <td>Shield volcano</td>\n",
       "      <td>1.0</td>\n",
       "    </tr>\n",
       "    <tr>\n",
       "      <th>59</th>\n",
       "      <td>2018</td>\n",
       "      <td>Kadovar</td>\n",
       "      <td>New Guinea-NE of</td>\n",
       "      <td>Papua New Guinea</td>\n",
       "      <td>Stratovolcano</td>\n",
       "      <td>NaN</td>\n",
       "    </tr>\n",
       "    <tr>\n",
       "      <th>60</th>\n",
       "      <td>2018</td>\n",
       "      <td>Ijen</td>\n",
       "      <td>Java</td>\n",
       "      <td>Indonesia</td>\n",
       "      <td>Stratovolcano</td>\n",
       "      <td>NaN</td>\n",
       "    </tr>\n",
       "    <tr>\n",
       "      <th>61</th>\n",
       "      <td>2018</td>\n",
       "      <td>Kilauea</td>\n",
       "      <td>Hawaiian Is</td>\n",
       "      <td>United States</td>\n",
       "      <td>Shield volcano</td>\n",
       "      <td>NaN</td>\n",
       "    </tr>\n",
       "    <tr>\n",
       "      <th>62</th>\n",
       "      <td>2018</td>\n",
       "      <td>Aoba</td>\n",
       "      <td>Vanuatu-SW Pacific</td>\n",
       "      <td>Vanuatu</td>\n",
       "      <td>Shield volcano</td>\n",
       "      <td>4.0</td>\n",
       "    </tr>\n",
       "  </tbody>\n",
       "</table>\n",
       "</div>"
      ],
      "text/plain": [
       "    Year     Name            Location           Country            Type  \\\n",
       "58  2018  Kilauea         Hawaiian Is     United States  Shield volcano   \n",
       "59  2018  Kadovar    New Guinea-NE of  Papua New Guinea   Stratovolcano   \n",
       "60  2018     Ijen                Java         Indonesia   Stratovolcano   \n",
       "61  2018  Kilauea         Hawaiian Is     United States  Shield volcano   \n",
       "62  2018     Aoba  Vanuatu-SW Pacific           Vanuatu  Shield volcano   \n",
       "\n",
       "    TOTAL_DEATHS  \n",
       "58           1.0  \n",
       "59           NaN  \n",
       "60           NaN  \n",
       "61           NaN  \n",
       "62           4.0  "
      ]
     },
     "execution_count": 5,
     "metadata": {},
     "output_type": "execute_result"
    }
   ],
   "source": [
    "# Summoning the bottom 5 rows:\n",
    "df.tail()"
   ]
  },
  {
   "cell_type": "markdown",
   "id": "32525877",
   "metadata": {
    "papermill": {
     "duration": 0.00763,
     "end_time": "2022-07-05T14:46:45.230501",
     "exception": false,
     "start_time": "2022-07-05T14:46:45.222871",
     "status": "completed"
    },
    "tags": []
   },
   "source": [
    "## <font color=\"orange\">**Finding the descriptive information of our dataset:-**</font>"
   ]
  },
  {
   "cell_type": "code",
   "execution_count": 6,
   "id": "32f48afe",
   "metadata": {
    "execution": {
     "iopub.execute_input": "2022-07-05T14:46:45.248396Z",
     "iopub.status.busy": "2022-07-05T14:46:45.247898Z",
     "iopub.status.idle": "2022-07-05T14:46:45.281909Z",
     "shell.execute_reply": "2022-07-05T14:46:45.280718Z"
    },
    "papermill": {
     "duration": 0.045579,
     "end_time": "2022-07-05T14:46:45.284110",
     "exception": false,
     "start_time": "2022-07-05T14:46:45.238531",
     "status": "completed"
    },
    "tags": []
   },
   "outputs": [
    {
     "data": {
      "text/html": [
       "<div>\n",
       "<style scoped>\n",
       "    .dataframe tbody tr th:only-of-type {\n",
       "        vertical-align: middle;\n",
       "    }\n",
       "\n",
       "    .dataframe tbody tr th {\n",
       "        vertical-align: top;\n",
       "    }\n",
       "\n",
       "    .dataframe thead th {\n",
       "        text-align: right;\n",
       "    }\n",
       "</style>\n",
       "<table border=\"1\" class=\"dataframe\">\n",
       "  <thead>\n",
       "    <tr style=\"text-align: right;\">\n",
       "      <th></th>\n",
       "      <th>Year</th>\n",
       "      <th>TOTAL_DEATHS</th>\n",
       "    </tr>\n",
       "  </thead>\n",
       "  <tbody>\n",
       "    <tr>\n",
       "      <th>count</th>\n",
       "      <td>63.000000</td>\n",
       "      <td>29.000000</td>\n",
       "    </tr>\n",
       "    <tr>\n",
       "      <th>mean</th>\n",
       "      <td>2013.873016</td>\n",
       "      <td>18.689655</td>\n",
       "    </tr>\n",
       "    <tr>\n",
       "      <th>std</th>\n",
       "      <td>2.779487</td>\n",
       "      <td>67.925434</td>\n",
       "    </tr>\n",
       "    <tr>\n",
       "      <th>min</th>\n",
       "      <td>2010.000000</td>\n",
       "      <td>1.000000</td>\n",
       "    </tr>\n",
       "    <tr>\n",
       "      <th>25%</th>\n",
       "      <td>2011.000000</td>\n",
       "      <td>1.000000</td>\n",
       "    </tr>\n",
       "    <tr>\n",
       "      <th>50%</th>\n",
       "      <td>2014.000000</td>\n",
       "      <td>2.000000</td>\n",
       "    </tr>\n",
       "    <tr>\n",
       "      <th>75%</th>\n",
       "      <td>2016.500000</td>\n",
       "      <td>7.000000</td>\n",
       "    </tr>\n",
       "    <tr>\n",
       "      <th>max</th>\n",
       "      <td>2018.000000</td>\n",
       "      <td>367.000000</td>\n",
       "    </tr>\n",
       "  </tbody>\n",
       "</table>\n",
       "</div>"
      ],
      "text/plain": [
       "              Year  TOTAL_DEATHS\n",
       "count    63.000000     29.000000\n",
       "mean   2013.873016     18.689655\n",
       "std       2.779487     67.925434\n",
       "min    2010.000000      1.000000\n",
       "25%    2011.000000      1.000000\n",
       "50%    2014.000000      2.000000\n",
       "75%    2016.500000      7.000000\n",
       "max    2018.000000    367.000000"
      ]
     },
     "execution_count": 6,
     "metadata": {},
     "output_type": "execute_result"
    }
   ],
   "source": [
    "# Finding the descriptive information about the numerical/continuous columns in our dataset:-  \n",
    "df.describe()"
   ]
  },
  {
   "cell_type": "code",
   "execution_count": 7,
   "id": "0fa84a90",
   "metadata": {
    "execution": {
     "iopub.execute_input": "2022-07-05T14:46:45.301679Z",
     "iopub.status.busy": "2022-07-05T14:46:45.301309Z",
     "iopub.status.idle": "2022-07-05T14:46:45.321506Z",
     "shell.execute_reply": "2022-07-05T14:46:45.320366Z"
    },
    "papermill": {
     "duration": 0.031589,
     "end_time": "2022-07-05T14:46:45.323668",
     "exception": false,
     "start_time": "2022-07-05T14:46:45.292079",
     "status": "completed"
    },
    "tags": []
   },
   "outputs": [
    {
     "data": {
      "text/html": [
       "<div>\n",
       "<style scoped>\n",
       "    .dataframe tbody tr th:only-of-type {\n",
       "        vertical-align: middle;\n",
       "    }\n",
       "\n",
       "    .dataframe tbody tr th {\n",
       "        vertical-align: top;\n",
       "    }\n",
       "\n",
       "    .dataframe thead th {\n",
       "        text-align: right;\n",
       "    }\n",
       "</style>\n",
       "<table border=\"1\" class=\"dataframe\">\n",
       "  <thead>\n",
       "    <tr style=\"text-align: right;\">\n",
       "      <th></th>\n",
       "      <th>Name</th>\n",
       "      <th>Location</th>\n",
       "      <th>Country</th>\n",
       "      <th>Type</th>\n",
       "    </tr>\n",
       "  </thead>\n",
       "  <tbody>\n",
       "    <tr>\n",
       "      <th>count</th>\n",
       "      <td>63</td>\n",
       "      <td>63</td>\n",
       "      <td>63</td>\n",
       "      <td>63</td>\n",
       "    </tr>\n",
       "    <tr>\n",
       "      <th>unique</th>\n",
       "      <td>38</td>\n",
       "      <td>25</td>\n",
       "      <td>16</td>\n",
       "      <td>6</td>\n",
       "    </tr>\n",
       "    <tr>\n",
       "      <th>top</th>\n",
       "      <td>Sinabung</td>\n",
       "      <td>Sumatra</td>\n",
       "      <td>Indonesia</td>\n",
       "      <td>Stratovolcano</td>\n",
       "    </tr>\n",
       "    <tr>\n",
       "      <th>freq</th>\n",
       "      <td>9</td>\n",
       "      <td>9</td>\n",
       "      <td>26</td>\n",
       "      <td>45</td>\n",
       "    </tr>\n",
       "  </tbody>\n",
       "</table>\n",
       "</div>"
      ],
      "text/plain": [
       "            Name Location    Country           Type\n",
       "count         63       63         63             63\n",
       "unique        38       25         16              6\n",
       "top     Sinabung  Sumatra  Indonesia  Stratovolcano\n",
       "freq           9        9         26             45"
      ]
     },
     "execution_count": 7,
     "metadata": {},
     "output_type": "execute_result"
    }
   ],
   "source": [
    "# Finding the descriptive information about the catogerical columns in our dataset:-  \n",
    "df.describe(include=\"object\")"
   ]
  },
  {
   "cell_type": "markdown",
   "id": "818694b0",
   "metadata": {
    "papermill": {
     "duration": 0.008154,
     "end_time": "2022-07-05T14:46:45.340343",
     "exception": false,
     "start_time": "2022-07-05T14:46:45.332189",
     "status": "completed"
    },
    "tags": []
   },
   "source": [
    "# <font color=\"ORANGE\">**Types of volcano found around:-**</font>"
   ]
  },
  {
   "cell_type": "code",
   "execution_count": 8,
   "id": "470b925a",
   "metadata": {
    "execution": {
     "iopub.execute_input": "2022-07-05T14:46:45.359687Z",
     "iopub.status.busy": "2022-07-05T14:46:45.359204Z",
     "iopub.status.idle": "2022-07-05T14:46:45.756448Z",
     "shell.execute_reply": "2022-07-05T14:46:45.755467Z"
    },
    "papermill": {
     "duration": 0.410114,
     "end_time": "2022-07-05T14:46:45.759034",
     "exception": false,
     "start_time": "2022-07-05T14:46:45.348920",
     "status": "completed"
    },
    "tags": []
   },
   "outputs": [
    {
     "data": {
      "image/png": "[encoded data removed]",
      "text/plain": [
       "<Figure size 432x288 with 1 Axes>"
      ]
     },
     "metadata": {},
     "output_type": "display_data"
    }
   ],
   "source": [
    "# Here we will be using the bar plots \n",
    "sns.barplot(x=\"Type\",y=\"Year\",data=df);\n",
    "# We use rcParams to decrease/Increase the size of the plot:-\n",
    "plt.rcParams[\"figure.figsize\"]=15,8"
   ]
  },
  {
   "cell_type": "markdown",
   "id": "782fdd80",
   "metadata": {
    "papermill": {
     "duration": 0.008667,
     "end_time": "2022-07-05T14:46:45.776889",
     "exception": false,
     "start_time": "2022-07-05T14:46:45.768222",
     "status": "completed"
    },
    "tags": []
   },
   "source": [
    "# <font color=\"ORANGE\">**Total deaths every year:-**</font>"
   ]
  },
  {
   "cell_type": "code",
   "execution_count": 9,
   "id": "120d3d19",
   "metadata": {
    "execution": {
     "iopub.execute_input": "2022-07-05T14:46:45.797626Z",
     "iopub.status.busy": "2022-07-05T14:46:45.796732Z",
     "iopub.status.idle": "2022-07-05T14:46:46.295113Z",
     "shell.execute_reply": "2022-07-05T14:46:46.294076Z"
    },
    "papermill": {
     "duration": 0.512023,
     "end_time": "2022-07-05T14:46:46.297843",
     "exception": false,
     "start_time": "2022-07-05T14:46:45.785820",
     "status": "completed"
    },
    "tags": []
   },
   "outputs": [
    {
     "data": {
      "image/png": "[encoded data removed]",
      "text/plain": [
       "<Figure size 1080x576 with 1 Axes>"
      ]
     },
     "metadata": {},
     "output_type": "display_data"
    }
   ],
   "source": [
    "sns.lineplot(x=\"Year\",y=\"TOTAL_DEATHS\",data=df,marker=\"*\",mfc=\"r\",ms=10);"
   ]
  },
  {
   "cell_type": "markdown",
   "id": "7f5c4b85",
   "metadata": {
    "papermill": {
     "duration": 0.009672,
     "end_time": "2022-07-05T14:46:46.318287",
     "exception": false,
     "start_time": "2022-07-05T14:46:46.308615",
     "status": "completed"
    },
    "tags": []
   },
   "source": [
    "#### * *As you can see the year 2010 and 2014 has seen the maximum amount of deaths.*"
   ]
  },
  {
   "cell_type": "markdown",
   "id": "828372dc",
   "metadata": {
    "papermill": {
     "duration": 0.009561,
     "end_time": "2022-07-05T14:46:46.337678",
     "exception": false,
     "start_time": "2022-07-05T14:46:46.328117",
     "status": "completed"
    },
    "tags": []
   },
   "source": [
    "## <font color=\"ORANGE\">**Finding the volcanos that has the heighest number of eruption in the past 10 years:-**</font>"
   ]
  },
  {
   "cell_type": "code",
   "execution_count": 10,
   "id": "f23918d0",
   "metadata": {
    "execution": {
     "iopub.execute_input": "2022-07-05T14:46:46.360601Z",
     "iopub.status.busy": "2022-07-05T14:46:46.359663Z",
     "iopub.status.idle": "2022-07-05T14:46:46.374423Z",
     "shell.execute_reply": "2022-07-05T14:46:46.373158Z"
    },
    "papermill": {
     "duration": 0.029295,
     "end_time": "2022-07-05T14:46:46.377172",
     "exception": false,
     "start_time": "2022-07-05T14:46:46.347877",
     "status": "completed"
    },
    "tags": []
   },
   "outputs": [
    {
     "data": {
      "text/html": [
       "<div>\n",
       "<style scoped>\n",
       "    .dataframe tbody tr th:only-of-type {\n",
       "        vertical-align: middle;\n",
       "    }\n",
       "\n",
       "    .dataframe tbody tr th {\n",
       "        vertical-align: top;\n",
       "    }\n",
       "\n",
       "    .dataframe thead th {\n",
       "        text-align: right;\n",
       "    }\n",
       "</style>\n",
       "<table border=\"1\" class=\"dataframe\">\n",
       "  <thead>\n",
       "    <tr style=\"text-align: right;\">\n",
       "      <th></th>\n",
       "      <th>Volcano_Name</th>\n",
       "      <th>counts</th>\n",
       "    </tr>\n",
       "  </thead>\n",
       "  <tbody>\n",
       "    <tr>\n",
       "      <th>0</th>\n",
       "      <td>Sinabung</td>\n",
       "      <td>9</td>\n",
       "    </tr>\n",
       "    <tr>\n",
       "      <th>1</th>\n",
       "      <td>Kilauea</td>\n",
       "      <td>5</td>\n",
       "    </tr>\n",
       "    <tr>\n",
       "      <th>2</th>\n",
       "      <td>Merapi</td>\n",
       "      <td>4</td>\n",
       "    </tr>\n",
       "    <tr>\n",
       "      <th>3</th>\n",
       "      <td>Tungurahua</td>\n",
       "      <td>3</td>\n",
       "    </tr>\n",
       "    <tr>\n",
       "      <th>4</th>\n",
       "      <td>Karangetang [Api Siau]</td>\n",
       "      <td>3</td>\n",
       "    </tr>\n",
       "  </tbody>\n",
       "</table>\n",
       "</div>"
      ],
      "text/plain": [
       "             Volcano_Name  counts\n",
       "0                Sinabung       9\n",
       "1                 Kilauea       5\n",
       "2                  Merapi       4\n",
       "3              Tungurahua       3\n",
       "4  Karangetang [Api Siau]       3"
      ]
     },
     "execution_count": 10,
     "metadata": {},
     "output_type": "execute_result"
    }
   ],
   "source": [
    "# Here we will be using the value_counts() function to find the top 5 location where the eruption has taken place.\n",
    "com_locations=df[\"Name\"].value_counts().head().rename_axis(\"Volcano_Name\").reset_index(name='counts')\n",
    "com_locations"
   ]
  },
  {
   "cell_type": "markdown",
   "id": "3046173d",
   "metadata": {
    "papermill": {
     "duration": 0.00969,
     "end_time": "2022-07-05T14:46:46.396722",
     "exception": false,
     "start_time": "2022-07-05T14:46:46.387032",
     "status": "completed"
    },
    "tags": []
   },
   "source": [
    "#### * *As from the above analysis we can decifer that sinabung has expreinced the heighest number of volcanic eruption.*"
   ]
  },
  {
   "cell_type": "code",
   "execution_count": 11,
   "id": "aa550b4f",
   "metadata": {
    "execution": {
     "iopub.execute_input": "2022-07-05T14:46:46.419155Z",
     "iopub.status.busy": "2022-07-05T14:46:46.418616Z",
     "iopub.status.idle": "2022-07-05T14:46:46.568377Z",
     "shell.execute_reply": "2022-07-05T14:46:46.566769Z"
    },
    "papermill": {
     "duration": 0.164707,
     "end_time": "2022-07-05T14:46:46.571538",
     "exception": false,
     "start_time": "2022-07-05T14:46:46.406831",
     "status": "completed"
    },
    "tags": []
   },
   "outputs": [
    {
     "data": {
      "image/png": "[encoded data removed]",
      "text/plain": [
       "<Figure size 1080x576 with 1 Axes>"
      ]
     },
     "metadata": {},
     "output_type": "display_data"
    }
   ],
   "source": [
    "# Now Graphically representing our above findings in the format of a pie chart:-\n",
    "Volcano_Name=[\"Sinabung\",\"Kilauea\",\"Merapi\",\"Tungurahua\",\"Karangetang\"]\n",
    "Eruption=[9,5,4,3,3]\n",
    "\n",
    "plt.pie(Eruption,labels=Volcano_Name);"
   ]
  },
  {
   "cell_type": "markdown",
   "id": "5086802a",
   "metadata": {
    "papermill": {
     "duration": 0.011116,
     "end_time": "2022-07-05T14:46:46.593377",
     "exception": false,
     "start_time": "2022-07-05T14:46:46.582261",
     "status": "completed"
    },
    "tags": []
   },
   "source": [
    "* ***As from the above pie chart we can clearing decifer the fact that Sinabung has experinced the heighest numbers of eruptions in the last 10 years.***"
   ]
  },
  {
   "cell_type": "markdown",
   "id": "efad53b1",
   "metadata": {
    "papermill": {
     "duration": 0.00993,
     "end_time": "2022-07-05T14:46:46.613842",
     "exception": false,
     "start_time": "2022-07-05T14:46:46.603912",
     "status": "completed"
    },
    "tags": []
   },
   "source": [
    "## <font color=\"orange\">**Finding the country that has experinced the heighest number of Eruptions:-**</font>"
   ]
  },
  {
   "cell_type": "code",
   "execution_count": 12,
   "id": "b4edeb1e",
   "metadata": {
    "execution": {
     "iopub.execute_input": "2022-07-05T14:46:46.636205Z",
     "iopub.status.busy": "2022-07-05T14:46:46.635707Z",
     "iopub.status.idle": "2022-07-05T14:46:46.941621Z",
     "shell.execute_reply": "2022-07-05T14:46:46.940295Z"
    },
    "papermill": {
     "duration": 0.320169,
     "end_time": "2022-07-05T14:46:46.944296",
     "exception": false,
     "start_time": "2022-07-05T14:46:46.624127",
     "status": "completed"
    },
    "tags": []
   },
   "outputs": [
    {
     "data": {
      "image/png": "[encoded data removed]",
      "text/plain": [
       "<Figure size 1080x576 with 1 Axes>"
      ]
     },
     "metadata": {},
     "output_type": "display_data"
    }
   ],
   "source": [
    "# Here we will be using the histplot:\n",
    "sns.histplot(data=df,y=\"Country\")\n",
    "plt.rcParams[\"figure.figsize\"]=(15,12)"
   ]
  },
  {
   "cell_type": "markdown",
   "id": "bc47cc66",
   "metadata": {
    "papermill": {
     "duration": 0.010726,
     "end_time": "2022-07-05T14:46:46.966358",
     "exception": false,
     "start_time": "2022-07-05T14:46:46.955632",
     "status": "completed"
    },
    "tags": []
   },
   "source": [
    "* ####  *We can see from the above hisplot that over the years Indonesia has expreinced the most eruptions.*"
   ]
  },
  {
   "cell_type": "markdown",
   "id": "6cbc7808",
   "metadata": {
    "papermill": {
     "duration": 0.010623,
     "end_time": "2022-07-05T14:46:46.988185",
     "exception": false,
     "start_time": "2022-07-05T14:46:46.977562",
     "status": "completed"
    },
    "tags": []
   },
   "source": [
    "# <font color=\"Orange\">*Finding the volcano that has erupted the most number of times in the last 10 years:-*</font>"
   ]
  },
  {
   "cell_type": "code",
   "execution_count": 13,
   "id": "cddebd88",
   "metadata": {
    "execution": {
     "iopub.execute_input": "2022-07-05T14:46:47.013223Z",
     "iopub.status.busy": "2022-07-05T14:46:47.011917Z",
     "iopub.status.idle": "2022-07-05T14:46:47.028832Z",
     "shell.execute_reply": "2022-07-05T14:46:47.027462Z"
    },
    "papermill": {
     "duration": 0.032522,
     "end_time": "2022-07-05T14:46:47.031763",
     "exception": false,
     "start_time": "2022-07-05T14:46:46.999241",
     "status": "completed"
    },
    "tags": []
   },
   "outputs": [
    {
     "data": {
      "text/html": [
       "<div>\n",
       "<style scoped>\n",
       "    .dataframe tbody tr th:only-of-type {\n",
       "        vertical-align: middle;\n",
       "    }\n",
       "\n",
       "    .dataframe tbody tr th {\n",
       "        vertical-align: top;\n",
       "    }\n",
       "\n",
       "    .dataframe thead th {\n",
       "        text-align: right;\n",
       "    }\n",
       "</style>\n",
       "<table border=\"1\" class=\"dataframe\">\n",
       "  <thead>\n",
       "    <tr style=\"text-align: right;\">\n",
       "      <th></th>\n",
       "      <th>Locations</th>\n",
       "      <th>counts</th>\n",
       "    </tr>\n",
       "  </thead>\n",
       "  <tbody>\n",
       "    <tr>\n",
       "      <th>0</th>\n",
       "      <td>Sumatra</td>\n",
       "      <td>9</td>\n",
       "    </tr>\n",
       "    <tr>\n",
       "      <th>1</th>\n",
       "      <td>Java</td>\n",
       "      <td>8</td>\n",
       "    </tr>\n",
       "    <tr>\n",
       "      <th>2</th>\n",
       "      <td>Hawaiian Is</td>\n",
       "      <td>5</td>\n",
       "    </tr>\n",
       "    <tr>\n",
       "      <th>3</th>\n",
       "      <td>Ecuador</td>\n",
       "      <td>3</td>\n",
       "    </tr>\n",
       "    <tr>\n",
       "      <th>4</th>\n",
       "      <td>New Guinea-NE of</td>\n",
       "      <td>3</td>\n",
       "    </tr>\n",
       "    <tr>\n",
       "      <th>5</th>\n",
       "      <td>Sangihe Is-Indonesia</td>\n",
       "      <td>3</td>\n",
       "    </tr>\n",
       "    <tr>\n",
       "      <th>6</th>\n",
       "      <td>Kyushu-Japan</td>\n",
       "      <td>3</td>\n",
       "    </tr>\n",
       "    <tr>\n",
       "      <th>7</th>\n",
       "      <td>Luzon-Philippines</td>\n",
       "      <td>3</td>\n",
       "    </tr>\n",
       "    <tr>\n",
       "      <th>8</th>\n",
       "      <td>Lesser Sunda Is</td>\n",
       "      <td>3</td>\n",
       "    </tr>\n",
       "    <tr>\n",
       "      <th>9</th>\n",
       "      <td>Italy</td>\n",
       "      <td>2</td>\n",
       "    </tr>\n",
       "  </tbody>\n",
       "</table>\n",
       "</div>"
      ],
      "text/plain": [
       "              Locations  counts\n",
       "0               Sumatra       9\n",
       "1                  Java       8\n",
       "2           Hawaiian Is       5\n",
       "3               Ecuador       3\n",
       "4      New Guinea-NE of       3\n",
       "5  Sangihe Is-Indonesia       3\n",
       "6          Kyushu-Japan       3\n",
       "7     Luzon-Philippines       3\n",
       "8       Lesser Sunda Is       3\n",
       "9                 Italy       2"
      ]
     },
     "execution_count": 13,
     "metadata": {},
     "output_type": "execute_result"
    }
   ],
   "source": [
    "# Here we wll be using the horizontal bar plots to find the volcano that has erupted the most number of time:-\n",
    "location=df[\"Location\"].value_counts().head(10).rename_axis(\"Locations\").reset_index(name='counts')\n",
    "location"
   ]
  },
  {
   "cell_type": "code",
   "execution_count": 14,
   "id": "4edeb0e2",
   "metadata": {
    "execution": {
     "iopub.execute_input": "2022-07-05T14:46:47.057025Z",
     "iopub.status.busy": "2022-07-05T14:46:47.056081Z",
     "iopub.status.idle": "2022-07-05T14:46:47.335611Z",
     "shell.execute_reply": "2022-07-05T14:46:47.334256Z"
    },
    "papermill": {
     "duration": 0.295401,
     "end_time": "2022-07-05T14:46:47.338440",
     "exception": false,
     "start_time": "2022-07-05T14:46:47.043039",
     "status": "completed"
    },
    "tags": []
   },
   "outputs": [
    {
     "data": {
      "image/png": "[encoded data removed]",
      "text/plain": [
       "<Figure size 1080x864 with 1 Axes>"
      ]
     },
     "metadata": {},
     "output_type": "display_data"
    }
   ],
   "source": [
    "sns.barplot(x=\"counts\",y=\"Locations\",data=location);"
   ]
  },
  {
   "cell_type": "code",
   "execution_count": null,
   "id": "7904dd62",
   "metadata": {
    "papermill": {
     "duration": 0.011878,
     "end_time": "2022-07-05T14:46:47.362105",
     "exception": false,
     "start_time": "2022-07-05T14:46:47.350227",
     "status": "completed"
    },
    "tags": []
   },
   "outputs": [],
   "source": []
  }
 ],
 "metadata": {
  "kernelspec": {
   "display_name": "Python 3",
   "language": "python",
   "name": "python3"
  },
  "language_info": {
   "codemirror_mode": {
    "name": "ipython",
    "version": 3
   },
   "file_extension": ".py",
   "mimetype": "text/x-python",
   "name": "python",
   "nbconvert_exporter": "python",
   "pygments_lexer": "ipython3",
   "version": "3.7.12"
  },
  "papermill": {
   "default_parameters": {},
   "duration": 16.823799,
   "end_time": "2022-07-05T14:46:48.399945",
   "environment_variables": {},
   "exception": null,
   "input_path": "__notebook__.ipynb",
   "output_path": "__notebook__.ipynb",
   "parameters": {},
   "start_time": "2022-07-05T14:46:31.576146",
   "version": "2.3.4"
  }
 },
 "nbformat": 4,
 "nbformat_minor": 5
}
